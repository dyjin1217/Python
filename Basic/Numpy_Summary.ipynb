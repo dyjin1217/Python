{
 "cells": [
  {
   "cell_type": "markdown",
   "metadata": {},
   "source": [
    "# Numpy Summary"
   ]
  },
  {
   "cell_type": "markdown",
   "metadata": {},
   "source": [
    "### 참고자료 \n",
    "\n",
    "- Python 데이터 분석 강의\n",
    "- Numpy Cheet Sheet\n",
    "- 최성철 교수님 강의자료"
   ]
  },
  {
   "cell_type": "markdown",
   "metadata": {},
   "source": [
    "##### Numpy 특징\n",
    "- 파이썬의 고성능 과학 계산용 패키지\n",
    "- Array 연산의 사실상의 표준 (vector, matrix, tensor)\n",
    "- 일반 List에 비해 빠르고, 메모리 효율적\n",
    "- 반복문 없이 데이터 배열에 대한 처리를 지원함\n",
    "- numpy는 np.array 함수를 활용하여 배열을 생성함 \n",
    "- numpy는 하나의 데이터 type만 배열에 넣을 수 있음 \n",
    "- List와 가장 큰 차이점 : Dynamic typing not supported"
   ]
  },
  {
   "cell_type": "markdown",
   "metadata": {},
   "source": [
    "<img src=\"./images/array_vs_list.png\",width=50%,height=50%>\n",
    "\n",
    "- np.array에 dtype도 있음\n",
    "- 참고자료: http://jakevdp.github.io/images/array_vs_list.png"
   ]
  },
  {
   "cell_type": "code",
   "execution_count": 1,
   "metadata": {},
   "outputs": [],
   "source": [
    "import numpy as np"
   ]
  },
  {
   "cell_type": "markdown",
   "metadata": {},
   "source": [
    "### 배열의 생성1"
   ]
  },
  {
   "cell_type": "code",
   "execution_count": 2,
   "metadata": {},
   "outputs": [
    {
     "data": {
      "text/plain": [
       "(2, 4)"
      ]
     },
     "execution_count": 2,
     "metadata": {},
     "output_type": "execute_result"
    }
   ],
   "source": [
    "data1 = [6,7,5,8,0,1]\n",
    "data2 = [[1,2,3,4],[5,6,7,8]]\n",
    "\n",
    "arr1 = np.array(data1)\n",
    "arr1.shape\n",
    "\n",
    "arr2 = np.array(data2)\n",
    "arr2.shape"
   ]
  },
  {
   "cell_type": "markdown",
   "metadata": {},
   "source": [
    "### 배열의 생성2 (arange)"
   ]
  },
  {
   "cell_type": "code",
   "execution_count": 3,
   "metadata": {},
   "outputs": [
    {
     "name": "stdout",
     "output_type": "stream",
     "text": [
      "[ 0  1  2  3  4  5  6  7  8  9 10 11 12 13 14 15 16 17 18 19]\n",
      "[0.  0.5 1.  1.5 2.  2.5 3.  3.5 4.  4.5]\n",
      "[[ 0  1  2  3  4  5]\n",
      " [ 6  7  8  9 10 11]\n",
      " [12 13 14 15 16 17]\n",
      " [18 19 20 21 22 23]\n",
      " [24 25 26 27 28 29]]\n"
     ]
    }
   ],
   "source": [
    "arr3 = np.arange(20)\n",
    "arr4 = np.arange(0,5,0.5)\n",
    "arr5 = np.arange(30).reshape(5,6)\n",
    "\n",
    "print(arr3)\n",
    "print(arr4)\n",
    "print(arr5)"
   ]
  },
  {
   "cell_type": "markdown",
   "metadata": {},
   "source": [
    "### shape, dtype, size, ndim, nbytes"
   ]
  },
  {
   "cell_type": "code",
   "execution_count": 4,
   "metadata": {},
   "outputs": [
    {
     "name": "stdout",
     "output_type": "stream",
     "text": [
      "int32\n",
      "8\n",
      "2\n",
      "24\n"
     ]
    }
   ],
   "source": [
    "# 데이터 타입 체크 및 \n",
    "print(arr1.dtype)\n",
    "\n",
    "# 원소 갯수\n",
    "print(arr2.size)\n",
    "\n",
    "# 차원수 (2차원 배열 -> 2차원)\n",
    "print(arr2.ndim)\n",
    "\n",
    "# nbytes\n",
    "print(arr1.nbytes)"
   ]
  },
  {
   "cell_type": "markdown",
   "metadata": {},
   "source": [
    "### 데이터 타입 체크 및 변경"
   ]
  },
  {
   "cell_type": "code",
   "execution_count": 5,
   "metadata": {},
   "outputs": [
    {
     "data": {
      "text/plain": [
       "dtype('float64')"
      ]
     },
     "execution_count": 5,
     "metadata": {},
     "output_type": "execute_result"
    }
   ],
   "source": [
    "arr = np.array([1,2,3,4,5],dtype=np.int64)\n",
    "arr = arr.astype(np.float64)\n",
    "arr.dtype"
   ]
  },
  {
   "cell_type": "markdown",
   "metadata": {},
   "source": [
    "### np.array와 기본 list와의  차이"
   ]
  },
  {
   "cell_type": "code",
   "execution_count": 6,
   "metadata": {},
   "outputs": [
    {
     "name": "stdout",
     "output_type": "stream",
     "text": [
      "[[1 2 3 4]\n",
      " [1 2 5 8]]\n",
      "2\n",
      "2\n",
      "[[ 1  2  3  4]\n",
      " [ 1 10  5  8]]\n"
     ]
    }
   ],
   "source": [
    "m = [[1,2,3,4],[1,2,5,8]]\n",
    "\n",
    "# print(m[0,1])  -> Error\n",
    "# print(m[0][0]) -> Error\n",
    "\n",
    "arr = np.array(m)\n",
    "\n",
    "print(arr)\n",
    "print(arr[1,1])\n",
    "print(arr[1][1])\n",
    "arr[1,1] = 10\n",
    "print(arr)"
   ]
  },
  {
   "cell_type": "markdown",
   "metadata": {},
   "source": [
    "### Slicing (원소 추출 및 변경)"
   ]
  },
  {
   "cell_type": "code",
   "execution_count": 7,
   "metadata": {},
   "outputs": [
    {
     "name": "stdout",
     "output_type": "stream",
     "text": [
      "[[1, 7, 3, 4, 5], [1, 2, 5, 8, 3], [2, 3, 2, 1, 3]]\n",
      "[[1 7]\n",
      " [1 2]\n",
      " [2 3]]\n",
      "[[1 3]\n",
      " [1 5]\n",
      " [2 2]]\n",
      "[[1 7 3 4 5]\n",
      " [1 2 5 8 3]]\n",
      "[[1 3 5]\n",
      " [1 5 3]\n",
      " [2 2 3]]\n"
     ]
    }
   ],
   "source": [
    "m = [[1,7,3,4,5],[1,2,5,8,3],[2,3,2,1,3]]\n",
    "print(m)\n",
    "\n",
    "arr = np.array(m)\n",
    "\n",
    "print(arr[:,0:2])\n",
    "print(arr[:,(0,2)])\n",
    "print(arr[0:2,])\n",
    "print(arr[:,::2])"
   ]
  },
  {
   "cell_type": "code",
   "execution_count": 8,
   "metadata": {},
   "outputs": [
    {
     "name": "stdout",
     "output_type": "stream",
     "text": [
      "5\n",
      "[5 6 7]\n",
      "[ 0  1  2  3  4 12 12 12  8  9]\n"
     ]
    }
   ],
   "source": [
    "arr = np.arange(10)\n",
    "print(arr[5])\n",
    "print(arr[5:8])\n",
    "arr[5:8]= 12\n",
    "print(arr)"
   ]
  },
  {
   "cell_type": "code",
   "execution_count": 9,
   "metadata": {},
   "outputs": [
    {
     "name": "stdout",
     "output_type": "stream",
     "text": [
      "[ 9 10 11 12]\n",
      "[[ 5  6  7  8]\n",
      " [ 9 10 11 12]]\n",
      "[ 4  8 12 16]\n",
      "[[ 1  2  3  4]\n",
      " [ 5  6  7  8]\n",
      " [ 9 10 11 12]\n",
      " [13 14 13 16]]\n",
      "[[ 1  2  3  4]\n",
      " [ 5  6  7  8]\n",
      " [ 9  0  0 12]\n",
      " [13 14 13 16]]\n"
     ]
    }
   ],
   "source": [
    "arr2d = np.array([[1,2,3,4],[5,6,7,8],[9,10,11,12],[13,14,15,16]])\n",
    "\n",
    "# 3행\n",
    "print(arr2d[2,:])\n",
    "\n",
    "# 2~3행\n",
    "print(arr2d[1:3,:]) \n",
    "\n",
    "# 4열\n",
    "print(arr2d[:,3]) \n",
    "\n",
    "# 4행 3열 값 변경\n",
    "arr2d[3,2] = 13\n",
    "print(arr2d)\n",
    "\n",
    "# 3행 2,3열 값 변경\n",
    "arr2d[2,1:3] = 0\n",
    "print(arr2d)"
   ]
  },
  {
   "cell_type": "markdown",
   "metadata": {},
   "source": [
    "### reshape : array shape크기 변경"
   ]
  },
  {
   "cell_type": "code",
   "execution_count": 10,
   "metadata": {},
   "outputs": [
    {
     "name": "stdout",
     "output_type": "stream",
     "text": [
      "int32\n",
      "(2, 4)\n",
      "[1 2 3 4 1 2 5 8]\n",
      "[[1 2]\n",
      " [3 4]\n",
      " [1 2]\n",
      " [5 8]]\n",
      "[[1 2]\n",
      " [3 4]\n",
      " [1 2]\n",
      " [5 8]]\n"
     ]
    }
   ],
   "source": [
    "m = [[1,2,3,4],[1,2,5,8]]\n",
    "m = np.array(m)\n",
    "\n",
    "print(m.dtype)\n",
    "print(m.shape)\n",
    "\n",
    "# 1 * 8\n",
    "print(m.reshape(8))\n",
    "\n",
    "# 4 * 2\n",
    "print(m.reshape(4,2))\n",
    "\n",
    "# 열이 2열\n",
    "print(m.reshape(-1,2))"
   ]
  },
  {
   "cell_type": "markdown",
   "metadata": {},
   "source": [
    "### transpose"
   ]
  },
  {
   "cell_type": "code",
   "execution_count": 11,
   "metadata": {},
   "outputs": [
    {
     "name": "stdout",
     "output_type": "stream",
     "text": [
      "[[1 1]\n",
      " [2 2]\n",
      " [3 5]\n",
      " [4 8]]\n"
     ]
    }
   ],
   "source": [
    "print(m.T)"
   ]
  },
  {
   "cell_type": "markdown",
   "metadata": {},
   "source": [
    "### Flatten : 다차원 -> 1차원"
   ]
  },
  {
   "cell_type": "code",
   "execution_count": 12,
   "metadata": {},
   "outputs": [
    {
     "name": "stdout",
     "output_type": "stream",
     "text": [
      "[1 2 3 4 1 2 5 8]\n"
     ]
    }
   ],
   "source": [
    "print(m.flatten())"
   ]
  },
  {
   "cell_type": "markdown",
   "metadata": {},
   "source": [
    "### zeros, ones, identity, eye"
   ]
  },
  {
   "cell_type": "code",
   "execution_count": 13,
   "metadata": {},
   "outputs": [
    {
     "name": "stdout",
     "output_type": "stream",
     "text": [
      "[[1. 0. 0.]\n",
      " [0. 1. 0.]\n",
      " [0. 0. 1.]]\n",
      "[[1. 0. 0.]\n",
      " [0. 1. 0.]\n",
      " [0. 0. 1.]]\n"
     ]
    }
   ],
   "source": [
    "# zeros\n",
    "np.zeros((3,6))\n",
    "np.zeros([3,6])\n",
    "\n",
    "# ones\n",
    "np.ones(10)\n",
    "\n",
    "# identity, eye,\n",
    "print(np.identity(3))\n",
    "print(np.eye(3))"
   ]
  },
  {
   "cell_type": "markdown",
   "metadata": {},
   "source": [
    "### diag : 대각원소 추출"
   ]
  },
  {
   "cell_type": "code",
   "execution_count": 14,
   "metadata": {},
   "outputs": [
    {
     "name": "stdout",
     "output_type": "stream",
     "text": [
      "[[1 7 3]\n",
      " [1 2 5]\n",
      " [2 3 2]]\n",
      "[1 2 2]\n"
     ]
    }
   ],
   "source": [
    "m = [[1,7,3],[1,2,5],[2,3,2]]\n",
    "arr = np.array(m)\n",
    "print(arr)\n",
    "print(np.diag(arr))"
   ]
  },
  {
   "cell_type": "markdown",
   "metadata": {},
   "source": [
    "### 수학 함수"
   ]
  },
  {
   "cell_type": "code",
   "execution_count": 15,
   "metadata": {},
   "outputs": [
    {
     "name": "stdout",
     "output_type": "stream",
     "text": [
      "[[1.         2.64575131 1.73205081]\n",
      " [1.         1.41421356 2.23606798]\n",
      " [1.41421356 1.73205081 1.41421356]]\n",
      "[[0.         0.84509804 0.47712125]\n",
      " [0.         0.30103    0.69897   ]\n",
      " [0.30103    0.47712125 0.30103   ]]\n"
     ]
    }
   ],
   "source": [
    "print(np.sqrt(arr))\n",
    "print(np.log10(arr))"
   ]
  },
  {
   "cell_type": "markdown",
   "metadata": {},
   "source": [
    "### 원소별 연산"
   ]
  },
  {
   "cell_type": "code",
   "execution_count": 16,
   "metadata": {},
   "outputs": [
    {
     "name": "stdout",
     "output_type": "stream",
     "text": [
      "[[ 8 10 12]\n",
      " [14 16 18]]\n",
      "[[-6 -6 -6]\n",
      " [-6 -6 -6]]\n",
      "[[ 7 16 27]\n",
      " [40 55 72]]\n",
      "[[0.14285714 0.25       0.33333333]\n",
      " [0.4        0.45454545 0.5       ]]\n",
      "[[ 2  4  6]\n",
      " [ 8 10 12]]\n",
      "[[1.         1.41421356 1.73205081]\n",
      " [2.         2.23606798 2.44948974]]\n",
      "[[1.         0.5        0.33333333]\n",
      " [0.25       0.2        0.16666667]]\n"
     ]
    }
   ],
   "source": [
    "arr1 = np.array([[1,2,3],[4,5,6]])\n",
    "arr2 = np.array([[7,8,9],[10,11,12]])\n",
    "\n",
    "print(arr1 + arr2)\n",
    "print(arr1 - arr2)\n",
    "print(arr1 * arr2)\n",
    "print(arr1 / arr2)\n",
    "\n",
    "print(arr1*2)\n",
    "print(arr1**0.5)\n",
    "print(1/arr1)"
   ]
  },
  {
   "cell_type": "code",
   "execution_count": 17,
   "metadata": {},
   "outputs": [],
   "source": [
    "# 난수 생성\n",
    "x = np.random.randn(8)\n",
    "y = np.random.randn(8)"
   ]
  },
  {
   "cell_type": "code",
   "execution_count": 18,
   "metadata": {},
   "outputs": [
    {
     "data": {
      "text/plain": [
       "array([ 0.31032573,  1.33445771,  1.05498432, -0.09737465, -0.23998195,\n",
       "        2.02092997,  1.32534823,  1.44838338])"
      ]
     },
     "execution_count": 18,
     "metadata": {},
     "output_type": "execute_result"
    }
   ],
   "source": [
    "# 성분별 최대값\n",
    "np.maximum(x,y) "
   ]
  },
  {
   "cell_type": "code",
   "execution_count": 19,
   "metadata": {},
   "outputs": [
    {
     "data": {
      "text/plain": [
       "array([2.48533435, 1.88163002, 2.08438664, 2.31397912, 2.2466273 ])"
      ]
     },
     "execution_count": 19,
     "metadata": {},
     "output_type": "execute_result"
    }
   ],
   "source": [
    "# 행/열 연산\n",
    "arr = np.random.rand(5,4)\n",
    "arr.sum()\n",
    "arr.mean()\n",
    "arr.sum(axis=0) # 행방향 합\n",
    "arr.sum(axis=1) # 열방향 합"
   ]
  },
  {
   "cell_type": "code",
   "execution_count": 20,
   "metadata": {},
   "outputs": [
    {
     "data": {
      "text/plain": [
       "20"
      ]
     },
     "execution_count": 20,
     "metadata": {},
     "output_type": "execute_result"
    }
   ],
   "source": [
    "# 조건부 합\n",
    "arr > 0\n",
    "(arr>0).sum()"
   ]
  },
  {
   "cell_type": "code",
   "execution_count": 21,
   "metadata": {},
   "outputs": [
    {
     "name": "stdout",
     "output_type": "stream",
     "text": [
      "[ 0.89183106  1.82604412  0.65035678  1.33801557  1.41645114 -0.60644189\n",
      "  1.35062087  0.16346394]\n",
      "[-0.60644189  0.16346394  0.65035678  0.89183106  1.33801557  1.35062087\n",
      "  1.41645114  1.82604412]\n",
      "[ 1.82604412  1.41645114  1.35062087  1.33801557  0.89183106  0.65035678\n",
      "  0.16346394 -0.60644189]\n"
     ]
    }
   ],
   "source": [
    "# 정렬\n",
    "arr = np.random.randn(8)\n",
    "print(arr)\n",
    "print(np.sort(arr))\n",
    "\n",
    "# 내림차순 정렬\n",
    "print(np.sort(arr)[::-1])"
   ]
  },
  {
   "cell_type": "code",
   "execution_count": 22,
   "metadata": {},
   "outputs": [
    {
     "name": "stdout",
     "output_type": "stream",
     "text": [
      "[[-0.39093456 -0.23175391 -1.25937851]\n",
      " [ 0.07543689  0.71784763 -0.17656029]\n",
      " [ 0.64162702  0.77655448  0.07498204]]\n",
      "[[-1.25937851  0.64162702  0.71784763]\n",
      " [-0.39093456  0.07498204  0.77655448]\n",
      " [-0.23175391 -0.17656029  0.07543689]]\n"
     ]
    }
   ],
   "source": [
    "# 정렬\n",
    "arr = np.random.randn(3,3)\n",
    "print(np.sort(arr,axis=0)) # 행 정렬\n",
    "print(np.sort(arr,axis=1)) # 열 정렬"
   ]
  },
  {
   "cell_type": "code",
   "execution_count": 23,
   "metadata": {},
   "outputs": [
    {
     "data": {
      "text/plain": [
       "1.5705113034137663"
      ]
     },
     "execution_count": 23,
     "metadata": {},
     "output_type": "execute_result"
    }
   ],
   "source": [
    "# 상위 5%의 값\n",
    "\n",
    "large_arr = np.random.randn(30)\n",
    "np.sort(large_arr)[::-1][int(0.05*len(large_arr))]"
   ]
  },
  {
   "cell_type": "code",
   "execution_count": 24,
   "metadata": {},
   "outputs": [
    {
     "ename": "NameError",
     "evalue": "name 'names' is not defined",
     "output_type": "error",
     "traceback": [
      "\u001b[1;31m---------------------------------------------------------------------------\u001b[0m",
      "\u001b[1;31mNameError\u001b[0m                                 Traceback (most recent call last)",
      "\u001b[1;32m<ipython-input-24-d6107dcbaaeb>\u001b[0m in \u001b[0;36m<module>\u001b[1;34m()\u001b[0m\n\u001b[0;32m      1\u001b[0m \u001b[0mints\u001b[0m \u001b[1;33m=\u001b[0m \u001b[0mnp\u001b[0m\u001b[1;33m.\u001b[0m\u001b[0marray\u001b[0m\u001b[1;33m(\u001b[0m\u001b[1;33m[\u001b[0m\u001b[1;36m3\u001b[0m\u001b[1;33m,\u001b[0m\u001b[1;36m3\u001b[0m\u001b[1;33m,\u001b[0m\u001b[1;36m3\u001b[0m\u001b[1;33m,\u001b[0m\u001b[1;36m2\u001b[0m\u001b[1;33m,\u001b[0m\u001b[1;36m2\u001b[0m\u001b[1;33m,\u001b[0m\u001b[1;36m1\u001b[0m\u001b[1;33m,\u001b[0m\u001b[1;36m1\u001b[0m\u001b[1;33m,\u001b[0m\u001b[1;36m4\u001b[0m\u001b[1;33m,\u001b[0m\u001b[1;36m4\u001b[0m\u001b[1;33m]\u001b[0m\u001b[1;33m)\u001b[0m\u001b[1;33m\u001b[0m\u001b[0m\n\u001b[1;32m----> 2\u001b[1;33m \u001b[0mprint\u001b[0m\u001b[1;33m(\u001b[0m\u001b[0mnp\u001b[0m\u001b[1;33m.\u001b[0m\u001b[0munique\u001b[0m\u001b[1;33m(\u001b[0m\u001b[0mnames\u001b[0m\u001b[1;33m)\u001b[0m\u001b[1;33m)\u001b[0m\u001b[1;33m\u001b[0m\u001b[0m\n\u001b[0m\u001b[0;32m      3\u001b[0m \u001b[0mprint\u001b[0m\u001b[1;33m(\u001b[0m\u001b[0mnp\u001b[0m\u001b[1;33m.\u001b[0m\u001b[0munique\u001b[0m\u001b[1;33m(\u001b[0m\u001b[0mints\u001b[0m\u001b[1;33m)\u001b[0m\u001b[1;33m)\u001b[0m\u001b[1;33m\u001b[0m\u001b[0m\n",
      "\u001b[1;31mNameError\u001b[0m: name 'names' is not defined"
     ]
    }
   ],
   "source": [
    "ints = np.array([3,3,3,2,2,1,1,4,4])\n",
    "print(np.unique(names))\n",
    "print(np.unique(ints))"
   ]
  },
  {
   "cell_type": "code",
   "execution_count": null,
   "metadata": {},
   "outputs": [],
   "source": [
    "# random sampling\n",
    "print(np.random.uniform(0,1,20))\n",
    "print(np.random.normal(0,1,10))"
   ]
  },
  {
   "cell_type": "code",
   "execution_count": null,
   "metadata": {},
   "outputs": [],
   "source": []
  },
  {
   "cell_type": "code",
   "execution_count": null,
   "metadata": {},
   "outputs": [],
   "source": [
    "\n",
    "a = np.array((1,2,3))\n",
    "a = a.reshape(3,1)\n",
    "b = np.array((4,5,6))\n",
    "b = b.reshape(3,1)\n",
    "np.hstack((a,b))"
   ]
  },
  {
   "cell_type": "code",
   "execution_count": null,
   "metadata": {},
   "outputs": [],
   "source": [
    "a = np.array((1,2,3))\n",
    "b = np.array((4,5,6))\n",
    "\n",
    "print(np.concatenate((a,b),axis=0))\n",
    "a = a.reshape(3,1)\n",
    "b = b.reshape(3,1)\n",
    "print(np.concatenate((a,b),axis=1))"
   ]
  },
  {
   "cell_type": "markdown",
   "metadata": {},
   "source": [
    "### where 함수"
   ]
  },
  {
   "cell_type": "code",
   "execution_count": null,
   "metadata": {},
   "outputs": [],
   "source": [
    "a = np.arange(10)\n",
    "print(a)\n",
    "print(np.where(a == 2))\n",
    "print(np.where(a > 7))\n",
    "\n",
    "# 원소 추출시\n",
    "print(np.where(a > 7)[0])\n",
    "\n",
    "# np.where(조건, 조건에 맞을 때 값, 조건과 다를 때 값) \n",
    "a = np.where(a > 7,7,a)"
   ]
  },
  {
   "cell_type": "code",
   "execution_count": null,
   "metadata": {},
   "outputs": [],
   "source": [
    "w = np.where(a > 7)"
   ]
  },
  {
   "cell_type": "code",
   "execution_count": null,
   "metadata": {},
   "outputs": [],
   "source": []
  },
  {
   "cell_type": "markdown",
   "metadata": {},
   "source": [
    "### NAN, inf"
   ]
  },
  {
   "cell_type": "code",
   "execution_count": null,
   "metadata": {},
   "outputs": [],
   "source": [
    "w[0]"
   ]
  },
  {
   "cell_type": "code",
   "execution_count": null,
   "metadata": {},
   "outputs": [],
   "source": [
    "\n",
    "a = np.arange(10)\n",
    "a = a.astype(float)\n",
    "a[2] = np.NAN\n",
    "a[4] = np.Inf\n",
    "\n",
    "print(a)\n",
    "\n",
    "print(np.isnan(a))\n",
    "print(np.isfinite(a))"
   ]
  },
  {
   "cell_type": "markdown",
   "metadata": {},
   "source": [
    "### 최대값, 최소값 인덱스 찾기"
   ]
  },
  {
   "cell_type": "code",
   "execution_count": null,
   "metadata": {},
   "outputs": [],
   "source": [
    "a = np.array([1,3,10,2,7])\n",
    "np.argmin(a) # a.argmin()\n",
    "np.argmax(a) # a.argmax()"
   ]
  },
  {
   "cell_type": "code",
   "execution_count": null,
   "metadata": {},
   "outputs": [],
   "source": [
    "a = np.array((1,3,2,10,7,3,12,4,6,0,11,9)).reshape(3,4)\n",
    "print(a)\n",
    "np.argmin(a,axis=0)\n",
    "np.argmax(a,axis=1)"
   ]
  },
  {
   "cell_type": "markdown",
   "metadata": {},
   "source": [
    "### Boolean and fancy index"
   ]
  },
  {
   "cell_type": "code",
   "execution_count": null,
   "metadata": {},
   "outputs": [],
   "source": [
    "a = np.array([1,3,2,4,5])\n",
    "print(a > 2)\n",
    "a[a>2]"
   ]
  },
  {
   "cell_type": "code",
   "execution_count": null,
   "metadata": {},
   "outputs": [],
   "source": [
    "names = np.array([\"criss\",\"ken\",\"junha\",\"hayoung\",\"suna\",\"doyeon\"])\n",
    "data = np.random.randn(6,3)\n",
    "print(names == \"criss\")\n",
    "print(data[names==\"criss\"])"
   ]
  },
  {
   "cell_type": "code",
   "execution_count": null,
   "metadata": {},
   "outputs": [],
   "source": [
    "a = np.array([2,4,6,8], float)\n",
    "b = np.array([0,1,2],int)\n",
    "\n",
    "print(a[b])\n",
    "print(a.take(b))"
   ]
  },
  {
   "cell_type": "markdown",
   "metadata": {},
   "source": [
    "### Comparison"
   ]
  },
  {
   "cell_type": "code",
   "execution_count": null,
   "metadata": {},
   "outputs": [],
   "source": [
    "a = np.arange(10)\n",
    "print(a)\n",
    "\n",
    "print(np.any(a > 5))\n",
    "print(np.all(a > 5))"
   ]
  },
  {
   "cell_type": "markdown",
   "metadata": {},
   "source": [
    "### I/O"
   ]
  },
  {
   "cell_type": "code",
   "execution_count": null,
   "metadata": {},
   "outputs": [],
   "source": [
    "a = np.array([1,3,2,4,5])\n",
    "a\n",
    "np.savetxt(\"./arr.csv\",a,delimiter=\",\")"
   ]
  },
  {
   "cell_type": "code",
   "execution_count": null,
   "metadata": {},
   "outputs": [],
   "source": [
    "b = np.loadtxt(\"arr.csv\",delimiter=\",\")\n",
    "print(b)"
   ]
  }
 ],
 "metadata": {
  "kernelspec": {
   "display_name": "Python 3",
   "language": "python",
   "name": "python3"
  },
  "language_info": {
   "codemirror_mode": {
    "name": "ipython",
    "version": 3
   },
   "file_extension": ".py",
   "mimetype": "text/x-python",
   "name": "python",
   "nbconvert_exporter": "python",
   "pygments_lexer": "ipython3",
   "version": "3.6.4"
  }
 },
 "nbformat": 4,
 "nbformat_minor": 2
}
