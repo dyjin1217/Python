{
 "cells": [
  {
   "cell_type": "code",
   "execution_count": null,
   "metadata": {},
   "outputs": [],
   "source": [
    "# 문자열 내에 등장하는 패턴의 횟수를 세기\n",
    "import re\n",
    "\n",
    "string = 'The quick brown fox jumps over the lazy dog'\n",
    "string_list = string.split()\n",
    "\n",
    "# re.I는 소/대문자 가리지 않게 해줌\n",
    "\n",
    "pattern = re.compile(r'The', re.I)\n",
    "count = 0 \n",
    "\n",
    "for word in string_list:\n",
    "    if pattern.search(word):\n",
    "        count += 1\n",
    "\n",
    "print(\"Output #38 : {0:d}\".format(count))  \n",
    "\n",
    "# 문자열에서 발견된 패턴 출력\n",
    "\n",
    "import re\n",
    "\n",
    "string = 'The quick brown fox jumps over the lazy dog'\n",
    "string_list = string.split()\n",
    "\n",
    "# re.I는 소/대문자 가리지 않게 해줌\n",
    "\n",
    "pattern = re.compile(r\"(?P<match_word>The)\", re.I)\n",
    "count = 0 \n",
    "\n",
    "for word in string_list:\n",
    "    if pattern.search(word):\n",
    "        print(\"{:s}\".format(pattern.search(word).group('match_word')))\n",
    "\n",
    "# 문자열에서 'a'를 'the'로 대체\n",
    "\n",
    "import re\n",
    "\n",
    "string = 'The quick brown fox jumps over the lazy dog'\n",
    "string_to_find = r\"The\"\n",
    "pattern = re.compile(string_to_find, re.I)\n",
    "print(\"Output #40 : {:s}\".format(pattern.sub(\"a\",string)))"
   ]
  }
 ],
 "metadata": {
  "kernelspec": {
   "display_name": "Python 3",
   "language": "python",
   "name": "python3"
  },
  "language_info": {
   "codemirror_mode": {
    "name": "ipython",
    "version": 3
   },
   "file_extension": ".py",
   "mimetype": "text/x-python",
   "name": "python",
   "nbconvert_exporter": "python",
   "pygments_lexer": "ipython3",
   "version": "3.6.4"
  }
 },
 "nbformat": 4,
 "nbformat_minor": 2
}
