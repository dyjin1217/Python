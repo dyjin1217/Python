{
 "cells": [
  {
   "cell_type": "markdown",
   "metadata": {},
   "source": [
    "# Multi Perceptron"
   ]
  },
  {
   "cell_type": "markdown",
   "metadata": {},
   "source": [
    "### 참고자료 :\n",
    "- https://tykimos.github.io/2017/02/04/MLP_Getting_Started/"
   ]
  },
  {
   "cell_type": "markdown",
   "metadata": {},
   "source": [
    "### 데이터 출처\n",
    "- https://archive.ics.uci.edu/ml/datasets/Pima+Indians+Diabetes\n",
    "\n",
    "### 데이터 정보\n",
    "- 인스턴스 수 : 768개\n",
    "- 속성 수 : 8가지\n",
    "- 클래스 수 : 2가지\n",
    "- 8가지 속성(1번~8번)과 결과(9번)의 상세 내용은 다음과 같습니다.\n",
    "- 임신 횟수\n",
    "- 경구 포도당 내성 검사에서 2시간 동안의 혈장 포도당 농도\n",
    "- 이완기 혈압 (mm Hg)\n",
    "- 삼두근 피부 두겹 두께 (mm)\n",
    "- 2 시간 혈청 인슐린 (mu U/ml)\n",
    "- 체질량 지수\n",
    "- 당뇨 직계 가족력\n",
    "- 나이 (세)\n",
    "- 5년 이내 당뇨병이 발병 여"
   ]
  },
  {
   "cell_type": "markdown",
   "metadata": {},
   "source": [
    "### 모델 구성\n",
    "- 속성이 8개이기 때문에 입력 뉴런을 8개\n",
    "- 이진 분류이기 때문에 0~1사이의 값을 나타내는 출력 뉴런이 1개\n",
    "\n",
    "- 첫번째 Dense 레이어는 은닉층(hidden layer)으로 8개 뉴런을 입력받아 12개 뉴런을 출력\n",
    "- 두번째 Dense 레이어는 은닉층으로 12개 뉴런을 입력받아 8개 뉴런을 출력\n",
    "- 마지막 Dense 레이어는 출럭 레이어로 8개 뉴런을 입력받아 1개 뉴런을 출력"
   ]
  },
  {
   "cell_type": "code",
   "execution_count": 1,
   "metadata": {},
   "outputs": [
    {
     "name": "stderr",
     "output_type": "stream",
     "text": [
      "C:\\Anaconda\\lib\\site-packages\\h5py\\__init__.py:36: FutureWarning: Conversion of the second argument of issubdtype from `float` to `np.floating` is deprecated. In future, it will be treated as `np.float64 == np.dtype(float).type`.\n",
      "  from ._conv import register_converters as _register_converters\n",
      "Using TensorFlow backend.\n"
     ]
    }
   ],
   "source": [
    "# 0. 사용할 패키지 불러오기\n",
    "import numpy as np\n",
    "from keras.models import Sequential\n",
    "from keras.layers import Dense\n",
    "\n",
    "# 랜덤시드 고정시키기\n",
    "np.random.seed(5)"
   ]
  },
  {
   "cell_type": "code",
   "execution_count": 2,
   "metadata": {},
   "outputs": [],
   "source": [
    "# 1. 데이터 준비하기\n",
    "dataset = np.loadtxt(\"./data/pima-indians-diabetes.data\", delimiter=\",\")\n",
    "\n",
    "# 2. 데이터셋 생성하기\n",
    "x_train = dataset[:700,0:8]\n",
    "y_train = dataset[:700,8]\n",
    "x_test = dataset[700:,0:8]\n",
    "y_test = dataset[700:,8]"
   ]
  },
  {
   "cell_type": "code",
   "execution_count": 3,
   "metadata": {},
   "outputs": [
    {
     "data": {
      "text/plain": [
       "<keras.callbacks.History at 0x133da908>"
      ]
     },
     "execution_count": 3,
     "metadata": {},
     "output_type": "execute_result"
    }
   ],
   "source": [
    "# 3. 모델 구성하기\n",
    "model = Sequential()\n",
    "model.add(Dense(12, input_dim=8, activation='relu'))\n",
    "model.add(Dense(8, activation='relu'))\n",
    "model.add(Dense(1, activation='sigmoid'))\n",
    "\n",
    "# 4. 모델 학습과정 설정하기\n",
    "model.compile(loss='binary_crossentropy', optimizer='adam', metrics=['accuracy'])\n",
    "\n",
    "# 5. 모델 학습시키기\n",
    "model.fit(x_train, y_train, epochs=1500, batch_size=64,verbose=0)"
   ]
  },
  {
   "cell_type": "code",
   "execution_count": 4,
   "metadata": {},
   "outputs": [
    {
     "name": "stdout",
     "output_type": "stream",
     "text": [
      "68/68 [==============================] - 0s 441us/step\n",
      "acc: 76.47%\n"
     ]
    }
   ],
   "source": [
    "# 6. 모델 평가하기\n",
    "\n",
    "scores = model.evaluate(x_test, y_test)\n",
    "print(\"%s: %.2f%%\" %(model.metrics_names[1], scores[1]*100))"
   ]
  },
  {
   "cell_type": "code",
   "execution_count": 5,
   "metadata": {},
   "outputs": [
    {
     "data": {
      "image/svg+xml": [
       "<svg height=\"304pt\" viewBox=\"0.00 0.00 300.00 304.00\" width=\"300pt\" xmlns=\"http://www.w3.org/2000/svg\" xmlns:xlink=\"http://www.w3.org/1999/xlink\">\n",
       "<g class=\"graph\" id=\"graph0\" transform=\"scale(1 1) rotate(0) translate(4 300)\">\n",
       "<title>G</title>\n",
       "<polygon fill=\"white\" points=\"-4,4 -4,-300 296,-300 296,4 -4,4\" stroke=\"none\"/>\n",
       "<!-- 305845080 -->\n",
       "<g class=\"node\" id=\"node1\"><title>305845080</title>\n",
       "<polygon fill=\"none\" points=\"0,-249.5 0,-295.5 292,-295.5 292,-249.5 0,-249.5\" stroke=\"black\"/>\n",
       "<text font-family=\"Times New Roman,serif\" font-size=\"14.00\" text-anchor=\"middle\" x=\"83\" y=\"-268.8\">dense_1_input: InputLayer</text>\n",
       "<polyline fill=\"none\" points=\"166,-249.5 166,-295.5 \" stroke=\"black\"/>\n",
       "<text font-family=\"Times New Roman,serif\" font-size=\"14.00\" text-anchor=\"middle\" x=\"194\" y=\"-280.3\">input:</text>\n",
       "<polyline fill=\"none\" points=\"166,-272.5 222,-272.5 \" stroke=\"black\"/>\n",
       "<text font-family=\"Times New Roman,serif\" font-size=\"14.00\" text-anchor=\"middle\" x=\"194\" y=\"-257.3\">output:</text>\n",
       "<polyline fill=\"none\" points=\"222,-249.5 222,-295.5 \" stroke=\"black\"/>\n",
       "<text font-family=\"Times New Roman,serif\" font-size=\"14.00\" text-anchor=\"middle\" x=\"257\" y=\"-280.3\">(None, 8)</text>\n",
       "<polyline fill=\"none\" points=\"222,-272.5 292,-272.5 \" stroke=\"black\"/>\n",
       "<text font-family=\"Times New Roman,serif\" font-size=\"14.00\" text-anchor=\"middle\" x=\"257\" y=\"-257.3\">(None, 8)</text>\n",
       "</g>\n",
       "<!-- 305844408 -->\n",
       "<g class=\"node\" id=\"node2\"><title>305844408</title>\n",
       "<polygon fill=\"none\" points=\"27.5,-166.5 27.5,-212.5 264.5,-212.5 264.5,-166.5 27.5,-166.5\" stroke=\"black\"/>\n",
       "<text font-family=\"Times New Roman,serif\" font-size=\"14.00\" text-anchor=\"middle\" x=\"79.5\" y=\"-185.8\">dense_1: Dense</text>\n",
       "<polyline fill=\"none\" points=\"131.5,-166.5 131.5,-212.5 \" stroke=\"black\"/>\n",
       "<text font-family=\"Times New Roman,serif\" font-size=\"14.00\" text-anchor=\"middle\" x=\"159.5\" y=\"-197.3\">input:</text>\n",
       "<polyline fill=\"none\" points=\"131.5,-189.5 187.5,-189.5 \" stroke=\"black\"/>\n",
       "<text font-family=\"Times New Roman,serif\" font-size=\"14.00\" text-anchor=\"middle\" x=\"159.5\" y=\"-174.3\">output:</text>\n",
       "<polyline fill=\"none\" points=\"187.5,-166.5 187.5,-212.5 \" stroke=\"black\"/>\n",
       "<text font-family=\"Times New Roman,serif\" font-size=\"14.00\" text-anchor=\"middle\" x=\"226\" y=\"-197.3\">(None, 8)</text>\n",
       "<polyline fill=\"none\" points=\"187.5,-189.5 264.5,-189.5 \" stroke=\"black\"/>\n",
       "<text font-family=\"Times New Roman,serif\" font-size=\"14.00\" text-anchor=\"middle\" x=\"226\" y=\"-174.3\">(None, 12)</text>\n",
       "</g>\n",
       "<!-- 305845080&#45;&gt;305844408 -->\n",
       "<g class=\"edge\" id=\"edge1\"><title>305845080-&gt;305844408</title>\n",
       "<path d=\"M146,-249.366C146,-241.152 146,-231.658 146,-222.725\" fill=\"none\" stroke=\"black\"/>\n",
       "<polygon fill=\"black\" points=\"149.5,-222.607 146,-212.607 142.5,-222.607 149.5,-222.607\" stroke=\"black\"/>\n",
       "</g>\n",
       "<!-- 305844688 -->\n",
       "<g class=\"node\" id=\"node3\"><title>305844688</title>\n",
       "<polygon fill=\"none\" points=\"27.5,-83.5 27.5,-129.5 264.5,-129.5 264.5,-83.5 27.5,-83.5\" stroke=\"black\"/>\n",
       "<text font-family=\"Times New Roman,serif\" font-size=\"14.00\" text-anchor=\"middle\" x=\"79.5\" y=\"-102.8\">dense_2: Dense</text>\n",
       "<polyline fill=\"none\" points=\"131.5,-83.5 131.5,-129.5 \" stroke=\"black\"/>\n",
       "<text font-family=\"Times New Roman,serif\" font-size=\"14.00\" text-anchor=\"middle\" x=\"159.5\" y=\"-114.3\">input:</text>\n",
       "<polyline fill=\"none\" points=\"131.5,-106.5 187.5,-106.5 \" stroke=\"black\"/>\n",
       "<text font-family=\"Times New Roman,serif\" font-size=\"14.00\" text-anchor=\"middle\" x=\"159.5\" y=\"-91.3\">output:</text>\n",
       "<polyline fill=\"none\" points=\"187.5,-83.5 187.5,-129.5 \" stroke=\"black\"/>\n",
       "<text font-family=\"Times New Roman,serif\" font-size=\"14.00\" text-anchor=\"middle\" x=\"226\" y=\"-114.3\">(None, 12)</text>\n",
       "<polyline fill=\"none\" points=\"187.5,-106.5 264.5,-106.5 \" stroke=\"black\"/>\n",
       "<text font-family=\"Times New Roman,serif\" font-size=\"14.00\" text-anchor=\"middle\" x=\"226\" y=\"-91.3\">(None, 8)</text>\n",
       "</g>\n",
       "<!-- 305844408&#45;&gt;305844688 -->\n",
       "<g class=\"edge\" id=\"edge2\"><title>305844408-&gt;305844688</title>\n",
       "<path d=\"M146,-166.366C146,-158.152 146,-148.658 146,-139.725\" fill=\"none\" stroke=\"black\"/>\n",
       "<polygon fill=\"black\" points=\"149.5,-139.607 146,-129.607 142.5,-139.607 149.5,-139.607\" stroke=\"black\"/>\n",
       "</g>\n",
       "<!-- 305845304 -->\n",
       "<g class=\"node\" id=\"node4\"><title>305845304</title>\n",
       "<polygon fill=\"none\" points=\"31,-0.5 31,-46.5 261,-46.5 261,-0.5 31,-0.5\" stroke=\"black\"/>\n",
       "<text font-family=\"Times New Roman,serif\" font-size=\"14.00\" text-anchor=\"middle\" x=\"83\" y=\"-19.8\">dense_3: Dense</text>\n",
       "<polyline fill=\"none\" points=\"135,-0.5 135,-46.5 \" stroke=\"black\"/>\n",
       "<text font-family=\"Times New Roman,serif\" font-size=\"14.00\" text-anchor=\"middle\" x=\"163\" y=\"-31.3\">input:</text>\n",
       "<polyline fill=\"none\" points=\"135,-23.5 191,-23.5 \" stroke=\"black\"/>\n",
       "<text font-family=\"Times New Roman,serif\" font-size=\"14.00\" text-anchor=\"middle\" x=\"163\" y=\"-8.3\">output:</text>\n",
       "<polyline fill=\"none\" points=\"191,-0.5 191,-46.5 \" stroke=\"black\"/>\n",
       "<text font-family=\"Times New Roman,serif\" font-size=\"14.00\" text-anchor=\"middle\" x=\"226\" y=\"-31.3\">(None, 8)</text>\n",
       "<polyline fill=\"none\" points=\"191,-23.5 261,-23.5 \" stroke=\"black\"/>\n",
       "<text font-family=\"Times New Roman,serif\" font-size=\"14.00\" text-anchor=\"middle\" x=\"226\" y=\"-8.3\">(None, 1)</text>\n",
       "</g>\n",
       "<!-- 305844688&#45;&gt;305845304 -->\n",
       "<g class=\"edge\" id=\"edge3\"><title>305844688-&gt;305845304</title>\n",
       "<path d=\"M146,-83.3664C146,-75.1516 146,-65.6579 146,-56.7252\" fill=\"none\" stroke=\"black\"/>\n",
       "<polygon fill=\"black\" points=\"149.5,-56.6068 146,-46.6068 142.5,-56.6069 149.5,-56.6068\" stroke=\"black\"/>\n",
       "</g>\n",
       "</g>\n",
       "</svg>"
      ],
      "text/plain": [
       "<IPython.core.display.SVG object>"
      ]
     },
     "execution_count": 5,
     "metadata": {},
     "output_type": "execute_result"
    }
   ],
   "source": [
    "from IPython.display import SVG\n",
    "from keras.utils.vis_utils import model_to_dot\n",
    "\n",
    "%matplotlib inline\n",
    "\n",
    "SVG(model_to_dot(model, show_shapes=True).create(prog='dot', format='svg'))"
   ]
  }
 ],
 "metadata": {
  "kernelspec": {
   "display_name": "Python 3",
   "language": "python",
   "name": "python3"
  },
  "language_info": {
   "codemirror_mode": {
    "name": "ipython",
    "version": 3
   },
   "file_extension": ".py",
   "mimetype": "text/x-python",
   "name": "python",
   "nbconvert_exporter": "python",
   "pygments_lexer": "ipython3",
   "version": "3.6.4"
  }
 },
 "nbformat": 4,
 "nbformat_minor": 2
}
